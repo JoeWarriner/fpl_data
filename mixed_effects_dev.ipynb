{
 "cells": [
  {
   "cell_type": "markdown",
   "metadata": {},
   "source": [
    "### Notebook for testing / building model"
   ]
  },
  {
   "cell_type": "code",
   "execution_count": 1,
   "metadata": {},
   "outputs": [],
   "source": [
    "import django\n",
    "import os\n",
    "os.environ['DJANGO_SETTINGS_MODULE'] = 'fpl.settings'\n",
    "os.environ[\"DJANGO_ALLOW_ASYNC_UNSAFE\"] = \"false\"\n",
    "django.setup()\n",
    "\n"
   ]
  },
  {
   "cell_type": "markdown",
   "metadata": {},
   "source": []
  },
  {
   "cell_type": "code",
   "execution_count": 2,
   "metadata": {},
   "outputs": [
    {
     "data": {
      "text/plain": [
       "'false'"
      ]
     },
     "execution_count": 2,
     "metadata": {},
     "output_type": "execute_result"
    }
   ],
   "source": [
    "os.getenv('DJANGO_SETTINGS_MODULE')\n",
    "os.getenv(\"DJANGO_ALLOW_ASYNC_UNSAFE\")"
   ]
  },
  {
   "cell_type": "code",
   "execution_count": 3,
   "metadata": {},
   "outputs": [],
   "source": [
    "\n",
    "from predictor.models import Player, PlayerFixture, Team\n",
    "import pandas as pd\n",
    "import numpy as np\n",
    "import matplotlib.pyplot as plt \n",
    "\n",
    "\n",
    "from statsmodels.regression.linear_model import OLS\n",
    "from statsmodels.tools.tools import add_constant\n",
    "\n"
   ]
  },
  {
   "cell_type": "code",
   "execution_count": 4,
   "metadata": {},
   "outputs": [],
   "source": [
    "\n",
    "# Get player fixture data:\n",
    "qs = PlayerFixture.objects.all().values()\n",
    "data = pd.DataFrame.from_records(qs)"
   ]
  },
  {
   "cell_type": "code",
   "execution_count": 5,
   "metadata": {},
   "outputs": [],
   "source": [
    "data.head()\n",
    "data = data.set_index('id')"
   ]
  },
  {
   "cell_type": "markdown",
   "metadata": {},
   "source": [
    "Currently: trying to fix so that 21 season rolling average is just ffilled from end of 20.\n"
   ]
  },
  {
   "cell_type": "code",
   "execution_count": 29,
   "metadata": {},
   "outputs": [],
   "source": [
    "\n",
    "\n",
    "#Calculate rolling points per player:\n",
    "data_rolling = pd.DataFrame()\n",
    "for player in Player.objects.all():\n",
    "    temp_data = data[data['player_id'] == player.pk].copy()\n",
    "    \n",
    "    #Only look at regular starters:\n",
    "    if len(temp_data) == 0:\n",
    "        continue\n",
    "    if len(temp_data.loc[(temp_data['points_scored'] == 0)].index) > len(temp_data.index) * 0.8:\n",
    "        continue\n",
    "\n",
    "    # For the 2020 season calculate rolling 20 game points average.\n",
    "    temp_data_20 = temp_data[(temp_data.season == 20)].copy()\n",
    "    temp_data_20.sort_values(by = ['gameweek'], inplace=True)\n",
    "    temp_data_20.loc[:, 'rolling_points'] = temp_data_20.loc[:,'points_scored'].rolling(20, closed = 'left').mean().copy()\n",
    "\n",
    "    #For 2021 season just use average for last 20 games of last season.\n",
    "    points_val_21 = temp_data_20.loc[:,'points_scored'].tail(20).mean()\n",
    "    temp_data_21 = temp_data[(temp_data.season == 21)].copy()\n",
    "    temp_data_21.loc[:,'rolling_points'] = points_val_21\n",
    "\n",
    "    #Put it all together!\n",
    "    temp_data = pd.concat([temp_data_20,temp_data_21])\n",
    "    data_rolling = pd.concat([data_rolling,temp_data])\n",
    "\n",
    "#Get rid of the nas - we don't want them messing up our model.\n",
    "data = data_rolling.dropna()\n",
    "\n",
    "\n"
   ]
  },
  {
   "cell_type": "code",
   "execution_count": 9,
   "metadata": {},
   "outputs": [],
   "source": [
    "# Break into positions:\n",
    "\n",
    "goalkeepers = data.loc[(data.position == 'GK')]\n",
    "defenders = data.loc[(data.position == 'DEF')]\n",
    "midfielders = data.loc[(data.position == 'MID')]\n",
    "forwards = data.loc[(data.position == 'FWD')]"
   ]
  },
  {
   "cell_type": "code",
   "execution_count": 10,
   "metadata": {},
   "outputs": [],
   "source": [
    "# Get relevant opponent statistics:\n",
    "\n",
    "for data in [goalkeepers, defenders]:\n",
    "    data.loc[:,'opp_team_stat'] = data.loc[:,'team_against_id'].apply(lambda x: Team.objects.get(pk = x).strength_attack)\n",
    "\n",
    "for data in [midfielders, forwards]:\n",
    "    data.loc[:,'opp_team_stat'] = data.loc[:,'team_against_id'].apply(lambda x: Team.objects.get(pk = x).strength_defence)"
   ]
  },
  {
   "cell_type": "code",
   "execution_count": 12,
   "metadata": {},
   "outputs": [],
   "source": [
    "# Calculate moderator term:\n",
    "\n",
    "for data in [goalkeepers, defenders, midfielders, forwards]:\n",
    "    data.loc[:,'rolling_points * opp_team_stat'] = data.loc[:, 'rolling_points'] * data.loc[:, 'opp_team_stat']\n"
   ]
  },
  {
   "cell_type": "code",
   "execution_count": 13,
   "metadata": {},
   "outputs": [],
   "source": [
    "# split into test and training:\n",
    "\n",
    "goalkeepers_test = goalkeepers.loc[(goalkeepers.season == 21)].copy()\n",
    "goalkeepers_training = goalkeepers.loc[goalkeepers.season == 20].copy()\n",
    "\n",
    "defenders_test = defenders.loc[defenders.season == 21].copy()\n",
    "defenders_training = defenders.loc[defenders.season == 20].copy()\n",
    "\n",
    "midfielders_test = midfielders.loc[midfielders.season == 21].copy()\n",
    "midfielders_training = midfielders.loc[midfielders.season == 20].copy()\n",
    "\n",
    "forwards_test = forwards.loc[forwards.season == 21].copy()\n",
    "forwards_training = forwards.loc[forwards.season == 20].copy()\n"
   ]
  },
  {
   "cell_type": "markdown",
   "metadata": {},
   "source": []
  },
  {
   "cell_type": "markdown",
   "metadata": {},
   "source": [
    "### MODELS!!!"
   ]
  },
  {
   "cell_type": "code",
   "execution_count": 19,
   "metadata": {},
   "outputs": [
    {
     "name": "stdout",
     "output_type": "stream",
     "text": [
      "HIIII\n",
      "Model MAE: 2.1393730811444835\n",
      "Naive MAE: 2.1981060606060603\n"
     ]
    }
   ],
   "source": [
    "#GK\n",
    "\n",
    "exog = add_constant(goalkeepers_training[['rolling_points', 'opp_team_stat', 'rolling_points * opp_team_stat']])\n",
    "gk_model = OLS(goalkeepers_training['points_scored'], exog)\n",
    "gk_results = gk_model.fit()      \n",
    "gk_results.summary()\n",
    "# plt.clf()\n",
    "# plt.hist(gk_results.resid)\n",
    "# plt.show()\n",
    "\n",
    "\n",
    "test_exog = add_constant(goalkeepers_test[['rolling_points', 'opp_team_stat', 'rolling_points * opp_team_stat']])\n",
    "\n",
    "gk_predictions = gk_results.predict(test_exog)\n",
    "gk_predictions.name = 'gk_predictions'\n",
    "goalkeepers_eval = goalkeepers_test.join(gk_predictions, how='right')\n",
    "goalkeepers_eval.loc[:,'Model_Abs_Error'] = np.abs(goalkeepers_eval.loc[:,'points_scored'] - goalkeepers_eval.loc[:,'gk_predictions'])\n",
    "goalkeepers_eval.loc[:,'Naive_Abs_Error'] = np.abs(goalkeepers_eval.loc[:,'points_scored'] - goalkeepers_eval.loc[:,'rolling_points'])\n",
    "\n",
    "\n",
    "print('HIIII')\n",
    "print(f'Model MAE: {goalkeepers_eval[\"Model_Abs_Error\"].mean()}')\n",
    "print(f'Naive MAE: {goalkeepers_eval[\"Naive_Abs_Error\"].mean()}')\n",
    "\n"
   ]
  },
  {
   "cell_type": "code",
   "execution_count": 31,
   "metadata": {},
   "outputs": [
    {
     "name": "stdout",
     "output_type": "stream",
     "text": [
      "HIIII\n",
      "Model MAE: 2.129525236620279\n",
      "Naive MAE: 2.185861823361823\n"
     ]
    }
   ],
   "source": [
    "#DEF\n",
    "\n",
    "exog = add_constant(defenders_training[['rolling_points', 'opp_team_stat', 'rolling_points * opp_team_stat']])\n",
    "def_model = OLS(defenders_training['points_scored'], exog)\n",
    "def_results = def_model.fit()      \n",
    "def_results.summary()\n",
    "# plt.clf()\n",
    "# plt.hist(def_results.resid)\n",
    "# plt.show()\n",
    "\n",
    "\n",
    "test_exog = add_constant(defenders_test[['rolling_points', 'opp_team_stat', 'rolling_points * opp_team_stat']])\n",
    "\n",
    "def_predictions = def_results.predict(test_exog)\n",
    "def_predictions.name = 'def_predictions'\n",
    "defenders_eval = defenders_test.join(def_predictions, how='right')\n",
    "defenders_eval.loc[:,'Model_Abs_Error'] = np.abs(defenders_eval.loc[:,'points_scored'] - defenders_eval.loc[:,'def_predictions'])\n",
    "defenders_eval.loc[:,'Naive_Abs_Error'] = np.abs(defenders_eval.loc[:,'points_scored'] - defenders_eval.loc[:,'rolling_points'])\n",
    "\n",
    "\n",
    "print('HIIII')\n",
    "print(f'Model MAE: {defenders_eval[\"Model_Abs_Error\"].mean()}')\n",
    "print(f'Naive MAE: {defenders_eval[\"Naive_Abs_Error\"].mean()}')\n"
   ]
  },
  {
   "cell_type": "code",
   "execution_count": 30,
   "metadata": {},
   "outputs": [
    {
     "name": "stdout",
     "output_type": "stream",
     "text": [
      "                            OLS Regression Results                            \n",
      "==============================================================================\n",
      "Dep. Variable:          points_scored   R-squared:                       0.098\n",
      "Model:                            OLS   Adj. R-squared:                  0.097\n",
      "Method:                 Least Squares   F-statistic:                     83.08\n",
      "Date:                Sat, 18 Jun 2022   Prob (F-statistic):           5.00e-51\n",
      "Time:                        21:36:58   Log-Likelihood:                -5482.1\n",
      "No. Observations:                2302   AIC:                         1.097e+04\n",
      "Df Residuals:                    2298   BIC:                         1.100e+04\n",
      "Df Model:                           3                                         \n",
      "Covariance Type:            nonrobust                                         \n",
      "==================================================================================================\n",
      "                                     coef    std err          t      P>|t|      [0.025      0.975]\n",
      "--------------------------------------------------------------------------------------------------\n",
      "const                              2.0739      1.350      1.536      0.125      -0.574       4.722\n",
      "rolling_points                     0.7853      0.539      1.457      0.145      -0.272       1.842\n",
      "opp_team_stat                     -0.0011      0.001     -0.969      0.332      -0.003       0.001\n",
      "rolling_points * opp_team_stat    -0.0001      0.000     -0.311      0.756      -0.001       0.001\n",
      "==============================================================================\n",
      "Omnibus:                     1099.182   Durbin-Watson:                   1.654\n",
      "Prob(Omnibus):                  0.000   Jarque-Bera (JB):             6163.797\n",
      "Skew:                           2.246   Prob(JB):                         0.00\n",
      "Kurtosis:                       9.640   Cond. No.                     8.01e+04\n",
      "==============================================================================\n",
      "\n",
      "Notes:\n",
      "[1] Standard Errors assume that the covariance matrix of the errors is correctly specified.\n",
      "[2] The condition number is large, 8.01e+04. This might indicate that there are\n",
      "strong multicollinearity or other numerical problems.\n",
      "HIIII\n",
      "Model MAE: 1.8390388008243268\n",
      "Naive MAE: 1.9208356545961\n"
     ]
    }
   ],
   "source": [
    "# MID\n",
    "\n",
    "exog = add_constant(midfielders_training[['rolling_points', 'opp_team_stat', 'rolling_points * opp_team_stat']])\n",
    "mid_model = OLS(midfielders_training['points_scored'], exog)\n",
    "mid_results = mid_model.fit()      \n",
    "mid_results.summary()\n",
    "print(mid_results.summary())\n",
    "\n",
    "# plt.clf()\n",
    "# plt.hist(mid_results.resid)\n",
    "# plt.show()\n",
    "\n",
    "\n",
    "test_exog = add_constant(midfielders_test[['rolling_points', 'opp_team_stat', 'rolling_points * opp_team_stat']])\n",
    "\n",
    "mid_predictions = mid_results.predict(test_exog)\n",
    "mid_predictions.name = 'mid_predictions'\n",
    "midfielders_eval = midfielders_test.join(mid_predictions, how='right')\n",
    "midfielders_eval.loc[:,'Model_Abs_Error'] = np.abs(midfielders_eval.loc[:,'points_scored'] - midfielders_eval.loc[:,'mid_predictions'])\n",
    "midfielders_eval.loc[:,'Naive_Abs_Error'] = np.abs(midfielders_eval.loc[:,'points_scored'] - midfielders_eval.loc[:,'rolling_points'])\n",
    "\n",
    "\n",
    "print('HIIII')\n",
    "print(f'Model MAE: {midfielders_eval[\"Model_Abs_Error\"].mean()}')\n",
    "print(f'Naive MAE: {midfielders_eval[\"Naive_Abs_Error\"].mean()}')"
   ]
  },
  {
   "cell_type": "code",
   "execution_count": 28,
   "metadata": {},
   "outputs": [
    {
     "name": "stdout",
     "output_type": "stream",
     "text": [
      "                            OLS Regression Results                            \n",
      "==============================================================================\n",
      "Dep. Variable:          points_scored   R-squared:                       0.091\n",
      "Model:                            OLS   Adj. R-squared:                  0.086\n",
      "Method:                 Least Squares   F-statistic:                     18.25\n",
      "Date:                Sat, 18 Jun 2022   Prob (F-statistic):           2.67e-11\n",
      "Time:                        21:20:03   Log-Likelihood:                -1435.1\n",
      "No. Observations:                 550   AIC:                             2878.\n",
      "Df Residuals:                     546   BIC:                             2895.\n",
      "Df Model:                           3                                         \n",
      "Covariance Type:            nonrobust                                         \n",
      "==================================================================================================\n",
      "                                     coef    std err          t      P>|t|      [0.025      0.975]\n",
      "--------------------------------------------------------------------------------------------------\n",
      "const                              0.6265      3.994      0.157      0.875      -7.219       8.471\n",
      "rolling_points                     2.6423      1.353      1.953      0.051      -0.015       5.300\n",
      "opp_team_stat                      0.0003      0.003      0.081      0.935      -0.007       0.007\n",
      "rolling_points * opp_team_stat    -0.0017      0.001     -1.453      0.147      -0.004       0.001\n",
      "==============================================================================\n",
      "Omnibus:                      182.479   Durbin-Watson:                   1.777\n",
      "Prob(Omnibus):                  0.000   Jarque-Bera (JB):              472.078\n",
      "Skew:                           1.685   Prob(JB):                    3.09e-103\n",
      "Kurtosis:                       6.041   Cond. No.                     1.06e+05\n",
      "==============================================================================\n",
      "\n",
      "Notes:\n",
      "[1] Standard Errors assume that the covariance matrix of the errors is correctly specified.\n",
      "[2] The condition number is large, 1.06e+05. This might indicate that there are\n",
      "strong multicollinearity or other numerical problems.\n",
      "HIIII\n",
      "Model MAE: 2.378826537309783\n",
      "Naive MAE: 2.3719391168599464\n"
     ]
    }
   ],
   "source": [
    "#FWD\n",
    "\n",
    "exog = add_constant(forwards_training[['rolling_points', 'opp_team_stat', 'rolling_points * opp_team_stat']])\n",
    "fwd_model = OLS(forwards_training['points_scored'], exog)\n",
    "fwd_resullts = fwd_model.fit()      \n",
    "print(fwd_resullts.summary())\n",
    "\n",
    "\n",
    "# plt.clf()\n",
    "# plt.hist(fwd_resullts.resid)\n",
    "# plt.show()\n",
    "\n",
    "\n",
    "test_exog = add_constant(forwards_test[['rolling_points', 'opp_team_stat', 'rolling_points * opp_team_stat']])\n",
    "\n",
    "fwd_predictions = fwd_resullts.predict(test_exog)\n",
    "fwd_predictions.name = 'fwd_predictions'\n",
    "forwards_eval = forwards_test.join(fwd_predictions, how='right')\n",
    "forwards_eval.loc[:,'Model_Abs_Error'] = np.abs(forwards_eval.loc[:,'points_scored'] - forwards_eval.loc[:,'fwd_predictions'])\n",
    "forwards_eval.loc[:,'Naive_Abs_Error'] = np.abs(forwards_eval.loc[:,'points_scored'] - forwards_eval.loc[:,'rolling_points'])\n",
    "\n",
    "\n",
    "print('HIIII')\n",
    "print(f'Model MAE: {forwards_eval[\"Model_Abs_Error\"].mean()}')\n",
    "print(f'Naive MAE: {forwards_eval[\"Naive_Abs_Error\"].mean()}')"
   ]
  },
  {
   "cell_type": "markdown",
   "metadata": {},
   "source": [
    "Fwds without interaction term:\n",
    "Model MAE: 2.386889166758664\n",
    "Naive MAE: 2.3719391168599464\n",
    "\n",
    "\n",
    "Fwds witthout interaction term or opponent quality term.\n",
    "Model MAE: 2.407789961693003\n",
    "Naive MAE: 2.3719391168599464\n",
    "\n",
    "\n",
    "Fwds with both terms:\n",
    "Model MAE: 2.378826537309783\n",
    "Naive MAE: 2.3719391168599464\n",
    "\n"
   ]
  },
  {
   "cell_type": "markdown",
   "metadata": {},
   "source": [
    "-----\n",
    "\n",
    "GK Models tested so far:\n",
    "\n",
    "exog = add_constant(goalkeepers_training[['rolling_points', 'opp_team_stat' ,'rolling_points * opp_team_stat']])\n",
    "gk_model = OLS(goalkeepers_training['points_scored'], exog)\n",
    "\n",
    "Model MAE: 2.1393730811444835\n",
    "Naive MAE: 2.1981060606060603\n",
    "\n",
    "\n",
    "----\n",
    "exog = add_constant(goalkeepers_training[['rolling_points', 'opp_team_stat' ]])\n",
    "gk_model = OLS(goalkeepers_training['points_scored'], exog)\n",
    "\n",
    "Model MAE: 2.1477974513478815\n",
    "Naive MAE: 2.1981060606060603\n"
   ]
  }
 ],
 "metadata": {
  "interpreter": {
   "hash": "b4555efe7064f69e2a099fa122c57a6d2f05a9ac846bd723686dbbcec7df4848"
  },
  "kernelspec": {
   "display_name": "Django Shell-Plus",
   "language": "python",
   "name": "django_extensions"
  },
  "language_info": {
   "codemirror_mode": {
    "name": "ipython",
    "version": 3
   },
   "file_extension": ".py",
   "mimetype": "text/x-python",
   "name": "python",
   "nbconvert_exporter": "python",
   "pygments_lexer": "ipython3",
   "version": "3.9.4"
  }
 },
 "nbformat": 4,
 "nbformat_minor": 2
}
