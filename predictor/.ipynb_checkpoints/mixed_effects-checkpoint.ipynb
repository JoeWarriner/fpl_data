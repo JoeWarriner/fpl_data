{
 "cells": [
  {
   "cell_type": "code",
   "execution_count": 3,
   "metadata": {},
   "outputs": [
    {
     "name": "stdout",
     "output_type": "stream",
     "text": [
      "C:/Users/joewa/Projects/FFapp/fpl/predictor\n"
     ]
    },
    {
     "ename": "ModuleNotFoundError",
     "evalue": "No module named 'fpl'",
     "output_type": "error",
     "traceback": [
      "\u001b[1;31m---------------------------------------------------------------------------\u001b[0m",
      "\u001b[1;31mModuleNotFoundError\u001b[0m                       Traceback (most recent call last)",
      "Input \u001b[1;32mIn [3]\u001b[0m, in \u001b[0;36m<cell line: 8>\u001b[1;34m()\u001b[0m\n\u001b[0;32m      6\u001b[0m os\u001b[38;5;241m.\u001b[39menviron\u001b[38;5;241m.\u001b[39msetdefault(\u001b[38;5;124m\"\u001b[39m\u001b[38;5;124mDJANGO_SETTINGS_MODULE\u001b[39m\u001b[38;5;124m\"\u001b[39m, \u001b[38;5;124m\"\u001b[39m\u001b[38;5;124mlocal_settings.py\u001b[39m\u001b[38;5;124m\"\u001b[39m)\n\u001b[0;32m      7\u001b[0m \u001b[38;5;28;01mimport\u001b[39;00m \u001b[38;5;21;01mdjango\u001b[39;00m\n\u001b[1;32m----> 8\u001b[0m \u001b[43mdjango\u001b[49m\u001b[38;5;241;43m.\u001b[39;49m\u001b[43msetup\u001b[49m\u001b[43m(\u001b[49m\u001b[43m)\u001b[49m\n",
      "File \u001b[1;32m~\\Projects\\FFapp\\FFappvenv\\lib\\site-packages\\django\\__init__.py:19\u001b[0m, in \u001b[0;36msetup\u001b[1;34m(set_prefix)\u001b[0m\n\u001b[0;32m     16\u001b[0m \u001b[38;5;28;01mfrom\u001b[39;00m \u001b[38;5;21;01mdjango\u001b[39;00m\u001b[38;5;21;01m.\u001b[39;00m\u001b[38;5;21;01murls\u001b[39;00m \u001b[38;5;28;01mimport\u001b[39;00m set_script_prefix\n\u001b[0;32m     17\u001b[0m \u001b[38;5;28;01mfrom\u001b[39;00m \u001b[38;5;21;01mdjango\u001b[39;00m\u001b[38;5;21;01m.\u001b[39;00m\u001b[38;5;21;01mutils\u001b[39;00m\u001b[38;5;21;01m.\u001b[39;00m\u001b[38;5;21;01mlog\u001b[39;00m \u001b[38;5;28;01mimport\u001b[39;00m configure_logging\n\u001b[1;32m---> 19\u001b[0m configure_logging(\u001b[43msettings\u001b[49m\u001b[38;5;241;43m.\u001b[39;49m\u001b[43mLOGGING_CONFIG\u001b[49m, settings\u001b[38;5;241m.\u001b[39mLOGGING)\n\u001b[0;32m     20\u001b[0m \u001b[38;5;28;01mif\u001b[39;00m set_prefix:\n\u001b[0;32m     21\u001b[0m     set_script_prefix(\n\u001b[0;32m     22\u001b[0m         \u001b[38;5;124m\"\u001b[39m\u001b[38;5;124m/\u001b[39m\u001b[38;5;124m\"\u001b[39m \u001b[38;5;28;01mif\u001b[39;00m settings\u001b[38;5;241m.\u001b[39mFORCE_SCRIPT_NAME \u001b[38;5;129;01mis\u001b[39;00m \u001b[38;5;28;01mNone\u001b[39;00m \u001b[38;5;28;01melse\u001b[39;00m settings\u001b[38;5;241m.\u001b[39mFORCE_SCRIPT_NAME\n\u001b[0;32m     23\u001b[0m     )\n",
      "File \u001b[1;32m~\\Projects\\FFapp\\FFappvenv\\lib\\site-packages\\django\\conf\\__init__.py:87\u001b[0m, in \u001b[0;36mLazySettings.__getattr__\u001b[1;34m(self, name)\u001b[0m\n\u001b[0;32m     85\u001b[0m \u001b[38;5;124;03m\"\"\"Return the value of a setting and cache it in self.__dict__.\"\"\"\u001b[39;00m\n\u001b[0;32m     86\u001b[0m \u001b[38;5;28;01mif\u001b[39;00m \u001b[38;5;28mself\u001b[39m\u001b[38;5;241m.\u001b[39m_wrapped \u001b[38;5;129;01mis\u001b[39;00m empty:\n\u001b[1;32m---> 87\u001b[0m     \u001b[38;5;28;43mself\u001b[39;49m\u001b[38;5;241;43m.\u001b[39;49m\u001b[43m_setup\u001b[49m\u001b[43m(\u001b[49m\u001b[43mname\u001b[49m\u001b[43m)\u001b[49m\n\u001b[0;32m     88\u001b[0m val \u001b[38;5;241m=\u001b[39m \u001b[38;5;28mgetattr\u001b[39m(\u001b[38;5;28mself\u001b[39m\u001b[38;5;241m.\u001b[39m_wrapped, name)\n\u001b[0;32m     90\u001b[0m \u001b[38;5;66;03m# Special case some settings which require further modification.\u001b[39;00m\n\u001b[0;32m     91\u001b[0m \u001b[38;5;66;03m# This is done here for performance reasons so the modified value is cached.\u001b[39;00m\n",
      "File \u001b[1;32m~\\Projects\\FFapp\\FFappvenv\\lib\\site-packages\\django\\conf\\__init__.py:74\u001b[0m, in \u001b[0;36mLazySettings._setup\u001b[1;34m(self, name)\u001b[0m\n\u001b[0;32m     66\u001b[0m     desc \u001b[38;5;241m=\u001b[39m (\u001b[38;5;124m\"\u001b[39m\u001b[38;5;124msetting \u001b[39m\u001b[38;5;132;01m%s\u001b[39;00m\u001b[38;5;124m\"\u001b[39m \u001b[38;5;241m%\u001b[39m name) \u001b[38;5;28;01mif\u001b[39;00m name \u001b[38;5;28;01melse\u001b[39;00m \u001b[38;5;124m\"\u001b[39m\u001b[38;5;124msettings\u001b[39m\u001b[38;5;124m\"\u001b[39m\n\u001b[0;32m     67\u001b[0m     \u001b[38;5;28;01mraise\u001b[39;00m ImproperlyConfigured(\n\u001b[0;32m     68\u001b[0m         \u001b[38;5;124m\"\u001b[39m\u001b[38;5;124mRequested \u001b[39m\u001b[38;5;132;01m%s\u001b[39;00m\u001b[38;5;124m, but settings are not configured. \u001b[39m\u001b[38;5;124m\"\u001b[39m\n\u001b[0;32m     69\u001b[0m         \u001b[38;5;124m\"\u001b[39m\u001b[38;5;124mYou must either define the environment variable \u001b[39m\u001b[38;5;132;01m%s\u001b[39;00m\u001b[38;5;124m \u001b[39m\u001b[38;5;124m\"\u001b[39m\n\u001b[0;32m     70\u001b[0m         \u001b[38;5;124m\"\u001b[39m\u001b[38;5;124mor call settings.configure() before accessing settings.\u001b[39m\u001b[38;5;124m\"\u001b[39m\n\u001b[0;32m     71\u001b[0m         \u001b[38;5;241m%\u001b[39m (desc, ENVIRONMENT_VARIABLE)\n\u001b[0;32m     72\u001b[0m     )\n\u001b[1;32m---> 74\u001b[0m \u001b[38;5;28mself\u001b[39m\u001b[38;5;241m.\u001b[39m_wrapped \u001b[38;5;241m=\u001b[39m \u001b[43mSettings\u001b[49m\u001b[43m(\u001b[49m\u001b[43msettings_module\u001b[49m\u001b[43m)\u001b[49m\n",
      "File \u001b[1;32m~\\Projects\\FFapp\\FFappvenv\\lib\\site-packages\\django\\conf\\__init__.py:183\u001b[0m, in \u001b[0;36mSettings.__init__\u001b[1;34m(self, settings_module)\u001b[0m\n\u001b[0;32m    180\u001b[0m \u001b[38;5;66;03m# store the settings module in case someone later cares\u001b[39;00m\n\u001b[0;32m    181\u001b[0m \u001b[38;5;28mself\u001b[39m\u001b[38;5;241m.\u001b[39mSETTINGS_MODULE \u001b[38;5;241m=\u001b[39m settings_module\n\u001b[1;32m--> 183\u001b[0m mod \u001b[38;5;241m=\u001b[39m \u001b[43mimportlib\u001b[49m\u001b[38;5;241;43m.\u001b[39;49m\u001b[43mimport_module\u001b[49m\u001b[43m(\u001b[49m\u001b[38;5;28;43mself\u001b[39;49m\u001b[38;5;241;43m.\u001b[39;49m\u001b[43mSETTINGS_MODULE\u001b[49m\u001b[43m)\u001b[49m\n\u001b[0;32m    185\u001b[0m tuple_settings \u001b[38;5;241m=\u001b[39m (\n\u001b[0;32m    186\u001b[0m     \u001b[38;5;124m\"\u001b[39m\u001b[38;5;124mALLOWED_HOSTS\u001b[39m\u001b[38;5;124m\"\u001b[39m,\n\u001b[0;32m    187\u001b[0m     \u001b[38;5;124m\"\u001b[39m\u001b[38;5;124mINSTALLED_APPS\u001b[39m\u001b[38;5;124m\"\u001b[39m,\n\u001b[0;32m    188\u001b[0m     \u001b[38;5;124m\"\u001b[39m\u001b[38;5;124mTEMPLATE_DIRS\u001b[39m\u001b[38;5;124m\"\u001b[39m,\n\u001b[0;32m    189\u001b[0m     \u001b[38;5;124m\"\u001b[39m\u001b[38;5;124mLOCALE_PATHS\u001b[39m\u001b[38;5;124m\"\u001b[39m,\n\u001b[0;32m    190\u001b[0m )\n\u001b[0;32m    191\u001b[0m \u001b[38;5;28mself\u001b[39m\u001b[38;5;241m.\u001b[39m_explicit_settings \u001b[38;5;241m=\u001b[39m \u001b[38;5;28mset\u001b[39m()\n",
      "File \u001b[1;32m~\\AppData\\Local\\Programs\\Python\\Python39\\lib\\importlib\\__init__.py:127\u001b[0m, in \u001b[0;36mimport_module\u001b[1;34m(name, package)\u001b[0m\n\u001b[0;32m    125\u001b[0m             \u001b[38;5;28;01mbreak\u001b[39;00m\n\u001b[0;32m    126\u001b[0m         level \u001b[38;5;241m+\u001b[39m\u001b[38;5;241m=\u001b[39m \u001b[38;5;241m1\u001b[39m\n\u001b[1;32m--> 127\u001b[0m \u001b[38;5;28;01mreturn\u001b[39;00m \u001b[43m_bootstrap\u001b[49m\u001b[38;5;241;43m.\u001b[39;49m\u001b[43m_gcd_import\u001b[49m\u001b[43m(\u001b[49m\u001b[43mname\u001b[49m\u001b[43m[\u001b[49m\u001b[43mlevel\u001b[49m\u001b[43m:\u001b[49m\u001b[43m]\u001b[49m\u001b[43m,\u001b[49m\u001b[43m \u001b[49m\u001b[43mpackage\u001b[49m\u001b[43m,\u001b[49m\u001b[43m \u001b[49m\u001b[43mlevel\u001b[49m\u001b[43m)\u001b[49m\n",
      "File \u001b[1;32m<frozen importlib._bootstrap>:1030\u001b[0m, in \u001b[0;36m_gcd_import\u001b[1;34m(name, package, level)\u001b[0m\n",
      "File \u001b[1;32m<frozen importlib._bootstrap>:1007\u001b[0m, in \u001b[0;36m_find_and_load\u001b[1;34m(name, import_)\u001b[0m\n",
      "File \u001b[1;32m<frozen importlib._bootstrap>:972\u001b[0m, in \u001b[0;36m_find_and_load_unlocked\u001b[1;34m(name, import_)\u001b[0m\n",
      "File \u001b[1;32m<frozen importlib._bootstrap>:228\u001b[0m, in \u001b[0;36m_call_with_frames_removed\u001b[1;34m(f, *args, **kwds)\u001b[0m\n",
      "File \u001b[1;32m<frozen importlib._bootstrap>:1030\u001b[0m, in \u001b[0;36m_gcd_import\u001b[1;34m(name, package, level)\u001b[0m\n",
      "File \u001b[1;32m<frozen importlib._bootstrap>:1007\u001b[0m, in \u001b[0;36m_find_and_load\u001b[1;34m(name, import_)\u001b[0m\n",
      "File \u001b[1;32m<frozen importlib._bootstrap>:984\u001b[0m, in \u001b[0;36m_find_and_load_unlocked\u001b[1;34m(name, import_)\u001b[0m\n",
      "\u001b[1;31mModuleNotFoundError\u001b[0m: No module named 'fpl'"
     ]
    }
   ],
   "source": [
    "import os, sys\n",
    "PWD = os.getenv('PWD')\n",
    "print(PWD)\n",
    "os.chdir(PWD)\n",
    "sys.path.insert(0, os.getenv('PWD'))\n",
    "os.environ.setdefault(\"DJANGO_SETTINGS_MODULE\", \"local_settings.py\")\n",
    "import django\n",
    "django.setup()"
   ]
  },
  {
   "cell_type": "code",
   "execution_count": 2,
   "metadata": {},
   "outputs": [
    {
     "ename": "ModuleNotFoundError",
     "evalue": "No module named 'predictor'",
     "output_type": "error",
     "traceback": [
      "\u001b[1;31m---------------------------------------------------------------------------\u001b[0m",
      "\u001b[1;31mModuleNotFoundError\u001b[0m                       Traceback (most recent call last)",
      "Input \u001b[1;32mIn [2]\u001b[0m, in \u001b[0;36m<cell line: 1>\u001b[1;34m()\u001b[0m\n\u001b[1;32m----> 1\u001b[0m \u001b[38;5;28;01mfrom\u001b[39;00m \u001b[38;5;21;01mpredictor\u001b[39;00m\u001b[38;5;21;01m.\u001b[39;00m\u001b[38;5;21;01mmodels\u001b[39;00m \u001b[38;5;28;01mimport\u001b[39;00m Player, PlayerFixture, Team\n\u001b[0;32m      2\u001b[0m \u001b[38;5;28;01mimport\u001b[39;00m \u001b[38;5;21;01mpandas\u001b[39;00m \u001b[38;5;28;01mas\u001b[39;00m \u001b[38;5;21;01mpd\u001b[39;00m\n\u001b[0;32m      3\u001b[0m \u001b[38;5;28;01mimport\u001b[39;00m \u001b[38;5;21;01mnumpy\u001b[39;00m \u001b[38;5;28;01mas\u001b[39;00m \u001b[38;5;21;01mnp\u001b[39;00m\n",
      "\u001b[1;31mModuleNotFoundError\u001b[0m: No module named 'predictor'"
     ]
    }
   ],
   "source": [
    "\n",
    "from predictor.models import Player, PlayerFixture, Team\n",
    "import pandas as pd\n",
    "import numpy as np\n",
    "from sklearn.ensemble import RandomForestRegressor\n",
    "from sklearn.preprocessing import OneHotEncoder\n",
    "import statsmodels.api as sm\n",
    "from statsmodels.regression.mixed_linear_model import MixedLM\n"
   ]
  },
  {
   "cell_type": "code",
   "execution_count": null,
   "metadata": {},
   "outputs": [],
   "source": [
    "\n",
    "# Get player fixture data:\n",
    "qs = PlayerFixture.objects.all().values()\n",
    "data = pd.DataFrame.from_records(qs)\n",
    "\n",
    "    #Remove points from season we are trying to predict (but keep hold of them so we can compare later)\n",
    "    data['actual_points'] = data.loc[(data.season == 21), ('points_scored')]\n",
    "    data.loc[(data.season == 21), ('points_scored')] = 0\n",
    "\n",
    "\n",
    "    #Calculate rolling points per player:\n",
    "    data_rolling = pd.DataFrame()\n",
    "    for player in Player.objects.all():\n",
    "        temp_data = data[data['player_id'] == player.pk].copy()\n",
    "        temp_data.sort_values(by = ['season', 'gameweek'], inplace=True)\n",
    "        points_scored = temp_data.loc[:,'points_scored']\n",
    "        temp_data.loc[:, 'rolling_points'] = points_scored.rolling(20, closed = 'left').mean().copy()\n",
    "        data_rolling = pd.concat([data_rolling,temp_data])\n",
    "\n",
    "\n",
    "    data_rolling = data_rolling.set_index('id')\n",
    "\n",
    "    goalkeepers = data_rolling.loc[(data_rolling.position == 'GK')]\n",
    "    defenders = data_rolling.loc[(data_rolling.position == 'DEF')]\n",
    "    midfielders = data_rolling.loc[(data_rolling.position == 'MID')]\n",
    "    forwards = data_rolling.loc[(data_rolling.position == 'FWD')]\n",
    "\n",
    "\n",
    "    for data in [goalkeepers, defenders]:\n",
    "        data['team_for'] = data['team_for_id'].apply(lambda x: Team.objects.get(pk = x).short_name )\n",
    "        data['opp_team_stat'] = data['team_against_id'].apply(lambda x: Team.objects.get(pk = x).strength_attack)\n",
    "    \n",
    "    for data in [midfielders, forwards]:\n",
    "        data['team_stat'] = data['team_for_id'].apply(lambda x: Team.objects.get(pk = x).strength_attack)\n",
    "        data['opp_team_stat'] = data['team_against_id'].apply(lambda x: Team.objects.get(pk = x).strength_defence)\n",
    "\n",
    "    midfielders\n",
    "\n",
    "    outputs = []\n",
    "    for data in [goalkeepers, defenders, midfielders, forwards ]:\n",
    "        model = MixedLM(data.points_scored, data['opp_team_stat', 'team_stat'], groups= [data.player_id])\n",
    "        results = model.fit()\n",
    "\n",
    "        print(results.summary() )"
   ]
  }
 ],
 "metadata": {
  "interpreter": {
   "hash": "b4555efe7064f69e2a099fa122c57a6d2f05a9ac846bd723686dbbcec7df4848"
  },
  "kernelspec": {
   "display_name": "Python 3 (ipykernel)",
   "language": "python",
   "name": "python3"
  },
  "language_info": {
   "codemirror_mode": {
    "name": "ipython",
    "version": 3
   },
   "file_extension": ".py",
   "mimetype": "text/x-python",
   "name": "python",
   "nbconvert_exporter": "python",
   "pygments_lexer": "ipython3",
   "version": "3.9.4"
  }
 },
 "nbformat": 4,
 "nbformat_minor": 2
}
