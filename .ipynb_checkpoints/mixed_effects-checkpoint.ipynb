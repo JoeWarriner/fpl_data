{
 "cells": [
  {
   "cell_type": "code",
   "execution_count": 2,
   "metadata": {},
   "outputs": [
    {
     "name": "stdout",
     "output_type": "stream",
     "text": [
      "/c/Users/joewa/Projects/FFapp/fpl\n"
     ]
    },
    {
     "ename": "FileNotFoundError",
     "evalue": "[WinError 3] The system cannot find the path specified: '/c/Users/joewa/Projects/FFapp/fpl'",
     "output_type": "error",
     "traceback": [
      "\u001b[1;31m---------------------------------------------------------------------------\u001b[0m",
      "\u001b[1;31mFileNotFoundError\u001b[0m                         Traceback (most recent call last)",
      "Input \u001b[1;32mIn [2]\u001b[0m, in \u001b[0;36m<cell line: 4>\u001b[1;34m()\u001b[0m\n\u001b[0;32m      2\u001b[0m PWD \u001b[38;5;241m=\u001b[39m os\u001b[38;5;241m.\u001b[39menviron\u001b[38;5;241m.\u001b[39mget(\u001b[38;5;124m'\u001b[39m\u001b[38;5;124mPWD\u001b[39m\u001b[38;5;124m'\u001b[39m)\n\u001b[0;32m      3\u001b[0m \u001b[38;5;28mprint\u001b[39m(PWD)\n\u001b[1;32m----> 4\u001b[0m \u001b[43mos\u001b[49m\u001b[38;5;241;43m.\u001b[39;49m\u001b[43mchdir\u001b[49m\u001b[43m(\u001b[49m\u001b[43mPWD\u001b[49m\u001b[43m)\u001b[49m\n\u001b[0;32m      5\u001b[0m sys\u001b[38;5;241m.\u001b[39mpath\u001b[38;5;241m.\u001b[39minsert(\u001b[38;5;241m0\u001b[39m, os\u001b[38;5;241m.\u001b[39mgetenv(\u001b[38;5;124m'\u001b[39m\u001b[38;5;124mPWD\u001b[39m\u001b[38;5;124m'\u001b[39m))\n\u001b[0;32m      6\u001b[0m os\u001b[38;5;241m.\u001b[39menviron\u001b[38;5;241m.\u001b[39msetdefault(\u001b[38;5;124m\"\u001b[39m\u001b[38;5;124mDJANGO_SETTINGS_MODULE\u001b[39m\u001b[38;5;124m\"\u001b[39m, \u001b[38;5;124m\"\u001b[39m\u001b[38;5;124mlocal_settings.py\u001b[39m\u001b[38;5;124m\"\u001b[39m)\n",
      "\u001b[1;31mFileNotFoundError\u001b[0m: [WinError 3] The system cannot find the path specified: '/c/Users/joewa/Projects/FFapp/fpl'"
     ]
    }
   ],
   "source": [
    "import os, sys\n",
    "PWD = os.environ.get('PWD')\n",
    "print(PWD)\n",
    "os.chdir(PWD)\n",
    "sys.path.insert(0, os.getenv('PWD'))\n",
    "os.environ.setdefault(\"DJANGO_SETTINGS_MODULE\", \"local_settings.py\")\n",
    "import django\n",
    "django.setup()"
   ]
  },
  {
   "cell_type": "code",
   "execution_count": 3,
   "metadata": {},
   "outputs": [
    {
     "ename": "AppRegistryNotReady",
     "evalue": "Apps aren't loaded yet.",
     "output_type": "error",
     "traceback": [
      "\u001b[1;31m---------------------------------------------------------------------------\u001b[0m",
      "\u001b[1;31mAppRegistryNotReady\u001b[0m                       Traceback (most recent call last)",
      "Input \u001b[1;32mIn [3]\u001b[0m, in \u001b[0;36m<cell line: 1>\u001b[1;34m()\u001b[0m\n\u001b[1;32m----> 1\u001b[0m \u001b[38;5;28;01mfrom\u001b[39;00m \u001b[38;5;21;01mpredictor\u001b[39;00m\u001b[38;5;21;01m.\u001b[39;00m\u001b[38;5;21;01mmodels\u001b[39;00m \u001b[38;5;28;01mimport\u001b[39;00m Player, PlayerFixture, Team\n\u001b[0;32m      2\u001b[0m \u001b[38;5;28;01mimport\u001b[39;00m \u001b[38;5;21;01mpandas\u001b[39;00m \u001b[38;5;28;01mas\u001b[39;00m \u001b[38;5;21;01mpd\u001b[39;00m\n\u001b[0;32m      3\u001b[0m \u001b[38;5;28;01mimport\u001b[39;00m \u001b[38;5;21;01mnumpy\u001b[39;00m \u001b[38;5;28;01mas\u001b[39;00m \u001b[38;5;21;01mnp\u001b[39;00m\n",
      "File \u001b[1;32m~\\Projects\\FFapp\\fpl\\predictor\\models.py:4\u001b[0m, in \u001b[0;36m<module>\u001b[1;34m\u001b[0m\n\u001b[0;32m      1\u001b[0m \u001b[38;5;28;01mfrom\u001b[39;00m \u001b[38;5;21;01mdjango\u001b[39;00m\u001b[38;5;21;01m.\u001b[39;00m\u001b[38;5;21;01mdb\u001b[39;00m \u001b[38;5;28;01mimport\u001b[39;00m models\n\u001b[1;32m----> 4\u001b[0m \u001b[38;5;28;01mclass\u001b[39;00m \u001b[38;5;21;01mTeam\u001b[39;00m(models\u001b[38;5;241m.\u001b[39mModel):\n\u001b[0;32m      5\u001b[0m     name \u001b[38;5;241m=\u001b[39m models\u001b[38;5;241m.\u001b[39mCharField(max_length\u001b[38;5;241m=\u001b[39m\u001b[38;5;241m200\u001b[39m)\n\u001b[0;32m      6\u001b[0m     short_name \u001b[38;5;241m=\u001b[39m models\u001b[38;5;241m.\u001b[39mCharField(max_length\u001b[38;5;241m=\u001b[39m\u001b[38;5;241m5\u001b[39m)\n",
      "File \u001b[1;32m~\\Projects\\FFapp\\FFappvenv\\lib\\site-packages\\django\\db\\models\\base.py:127\u001b[0m, in \u001b[0;36mModelBase.__new__\u001b[1;34m(cls, name, bases, attrs, **kwargs)\u001b[0m\n\u001b[0;32m    124\u001b[0m app_label \u001b[38;5;241m=\u001b[39m \u001b[38;5;28;01mNone\u001b[39;00m\n\u001b[0;32m    126\u001b[0m \u001b[38;5;66;03m# Look for an application configuration to attach the model to.\u001b[39;00m\n\u001b[1;32m--> 127\u001b[0m app_config \u001b[38;5;241m=\u001b[39m \u001b[43mapps\u001b[49m\u001b[38;5;241;43m.\u001b[39;49m\u001b[43mget_containing_app_config\u001b[49m\u001b[43m(\u001b[49m\u001b[43mmodule\u001b[49m\u001b[43m)\u001b[49m\n\u001b[0;32m    129\u001b[0m \u001b[38;5;28;01mif\u001b[39;00m \u001b[38;5;28mgetattr\u001b[39m(meta, \u001b[38;5;124m\"\u001b[39m\u001b[38;5;124mapp_label\u001b[39m\u001b[38;5;124m\"\u001b[39m, \u001b[38;5;28;01mNone\u001b[39;00m) \u001b[38;5;129;01mis\u001b[39;00m \u001b[38;5;28;01mNone\u001b[39;00m:\n\u001b[0;32m    130\u001b[0m     \u001b[38;5;28;01mif\u001b[39;00m app_config \u001b[38;5;129;01mis\u001b[39;00m \u001b[38;5;28;01mNone\u001b[39;00m:\n",
      "File \u001b[1;32m~\\Projects\\FFapp\\FFappvenv\\lib\\site-packages\\django\\apps\\registry.py:260\u001b[0m, in \u001b[0;36mApps.get_containing_app_config\u001b[1;34m(self, object_name)\u001b[0m\n\u001b[0;32m    251\u001b[0m \u001b[38;5;28;01mdef\u001b[39;00m \u001b[38;5;21mget_containing_app_config\u001b[39m(\u001b[38;5;28mself\u001b[39m, object_name):\n\u001b[0;32m    252\u001b[0m     \u001b[38;5;124;03m\"\"\"\u001b[39;00m\n\u001b[0;32m    253\u001b[0m \u001b[38;5;124;03m    Look for an app config containing a given object.\u001b[39;00m\n\u001b[0;32m    254\u001b[0m \n\u001b[1;32m   (...)\u001b[0m\n\u001b[0;32m    258\u001b[0m \u001b[38;5;124;03m    Return None if the object isn't in any registered app config.\u001b[39;00m\n\u001b[0;32m    259\u001b[0m \u001b[38;5;124;03m    \"\"\"\u001b[39;00m\n\u001b[1;32m--> 260\u001b[0m     \u001b[38;5;28;43mself\u001b[39;49m\u001b[38;5;241;43m.\u001b[39;49m\u001b[43mcheck_apps_ready\u001b[49m\u001b[43m(\u001b[49m\u001b[43m)\u001b[49m\n\u001b[0;32m    261\u001b[0m     candidates \u001b[38;5;241m=\u001b[39m []\n\u001b[0;32m    262\u001b[0m     \u001b[38;5;28;01mfor\u001b[39;00m app_config \u001b[38;5;129;01min\u001b[39;00m \u001b[38;5;28mself\u001b[39m\u001b[38;5;241m.\u001b[39mapp_configs\u001b[38;5;241m.\u001b[39mvalues():\n",
      "File \u001b[1;32m~\\Projects\\FFapp\\FFappvenv\\lib\\site-packages\\django\\apps\\registry.py:138\u001b[0m, in \u001b[0;36mApps.check_apps_ready\u001b[1;34m(self)\u001b[0m\n\u001b[0;32m    134\u001b[0m \u001b[38;5;66;03m# If \"not ready\" is due to unconfigured settings, accessing\u001b[39;00m\n\u001b[0;32m    135\u001b[0m \u001b[38;5;66;03m# INSTALLED_APPS raises a more helpful ImproperlyConfigured\u001b[39;00m\n\u001b[0;32m    136\u001b[0m \u001b[38;5;66;03m# exception.\u001b[39;00m\n\u001b[0;32m    137\u001b[0m settings\u001b[38;5;241m.\u001b[39mINSTALLED_APPS\n\u001b[1;32m--> 138\u001b[0m \u001b[38;5;28;01mraise\u001b[39;00m AppRegistryNotReady(\u001b[38;5;124m\"\u001b[39m\u001b[38;5;124mApps aren\u001b[39m\u001b[38;5;124m'\u001b[39m\u001b[38;5;124mt loaded yet.\u001b[39m\u001b[38;5;124m\"\u001b[39m)\n",
      "\u001b[1;31mAppRegistryNotReady\u001b[0m: Apps aren't loaded yet."
     ]
    }
   ],
   "source": [
    "\n",
    "from predictor.models import Player, PlayerFixture, Team\n",
    "import pandas as pd\n",
    "import numpy as np\n",
    "from sklearn.ensemble import RandomForestRegressor\n",
    "from sklearn.preprocessing import OneHotEncoder\n",
    "import statsmodels.api as sm\n",
    "from statsmodels.regression.mixed_linear_model import MixedLM\n"
   ]
  },
  {
   "cell_type": "code",
   "execution_count": null,
   "metadata": {},
   "outputs": [],
   "source": [
    "\n",
    "# Get player fixture data:\n",
    "qs = PlayerFixture.objects.all().values()\n",
    "data = pd.DataFrame.from_records(qs)\n",
    "\n",
    "    #Remove points from season we are trying to predict (but keep hold of them so we can compare later)\n",
    "    data['actual_points'] = data.loc[(data.season == 21), ('points_scored')]\n",
    "    data.loc[(data.season == 21), ('points_scored')] = 0\n",
    "\n",
    "\n",
    "    #Calculate rolling points per player:\n",
    "    data_rolling = pd.DataFrame()\n",
    "    for player in Player.objects.all():\n",
    "        temp_data = data[data['player_id'] == player.pk].copy()\n",
    "        temp_data.sort_values(by = ['season', 'gameweek'], inplace=True)\n",
    "        points_scored = temp_data.loc[:,'points_scored']\n",
    "        temp_data.loc[:, 'rolling_points'] = points_scored.rolling(20, closed = 'left').mean().copy()\n",
    "        data_rolling = pd.concat([data_rolling,temp_data])\n",
    "\n",
    "\n",
    "    data_rolling = data_rolling.set_index('id')\n",
    "\n",
    "    goalkeepers = data_rolling.loc[(data_rolling.position == 'GK')]\n",
    "    defenders = data_rolling.loc[(data_rolling.position == 'DEF')]\n",
    "    midfielders = data_rolling.loc[(data_rolling.position == 'MID')]\n",
    "    forwards = data_rolling.loc[(data_rolling.position == 'FWD')]\n",
    "\n",
    "\n",
    "    for data in [goalkeepers, defenders]:\n",
    "        data['team_for'] = data['team_for_id'].apply(lambda x: Team.objects.get(pk = x).short_name )\n",
    "        data['opp_team_stat'] = data['team_against_id'].apply(lambda x: Team.objects.get(pk = x).strength_attack)\n",
    "    \n",
    "    for data in [midfielders, forwards]:\n",
    "        data['team_stat'] = data['team_for_id'].apply(lambda x: Team.objects.get(pk = x).strength_attack)\n",
    "        data['opp_team_stat'] = data['team_against_id'].apply(lambda x: Team.objects.get(pk = x).strength_defence)\n",
    "\n",
    "    midfielders\n",
    "\n",
    "    outputs = []\n",
    "    for data in [goalkeepers, defenders, midfielders, forwards ]:\n",
    "        model = MixedLM(data.points_scored, data['opp_team_stat', 'team_stat'], groups= [data.player_id])\n",
    "        results = model.fit()\n",
    "\n",
    "        print(results.summary() )"
   ]
  }
 ],
 "metadata": {
  "interpreter": {
   "hash": "83a5138e706d2399fb2aeb21459dfd33d684b5b82728d0cf3f1cbaf2e846940b"
  },
  "kernelspec": {
   "display_name": "Python 3 (ipykernel)",
   "language": "python",
   "name": "python3"
  },
  "language_info": {
   "codemirror_mode": {
    "name": "ipython",
    "version": 3
   },
   "file_extension": ".py",
   "mimetype": "text/x-python",
   "name": "python",
   "nbconvert_exporter": "python",
   "pygments_lexer": "ipython3",
   "version": "3.9.4"
  }
 },
 "nbformat": 4,
 "nbformat_minor": 2
}
